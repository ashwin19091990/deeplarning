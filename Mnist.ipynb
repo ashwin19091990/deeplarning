{
  "nbformat": 4,
  "nbformat_minor": 0,
  "metadata": {
    "colab": {
      "name": "Mnist.ipynb",
      "version": "0.3.2",
      "provenance": [],
      "collapsed_sections": [],
      "include_colab_link": true
    },
    "kernelspec": {
      "name": "python3",
      "display_name": "Python 3"
    },
    "accelerator": "GPU"
  },
  "cells": [
    {
      "cell_type": "markdown",
      "metadata": {
        "id": "view-in-github",
        "colab_type": "text"
      },
      "source": [
        "[View in Colaboratory](https://colab.research.google.com/github/ashwin19091990/deeplarning/blob/master/Mnist.ipynb)"
      ]
    },
    {
      "metadata": {
        "id": "rIPeIKfP4Th1",
        "colab_type": "code",
        "colab": {}
      },
      "cell_type": "code",
      "source": [
        "import numpy as np\n",
        "from sklearn.metrics import confusion_matrix\n",
        "import matplotlib.pyplot as plt\n",
        "import tensorflow as tf\n",
        "from tensorflow.python.framework import ops\n",
        "import math"
      ],
      "execution_count": 0,
      "outputs": []
    },
    {
      "metadata": {
        "id": "A3wv__2-5V5w",
        "colab_type": "code",
        "colab": {
          "base_uri": "https://localhost:8080/",
          "height": 581
        },
        "outputId": "650d703e-3488-4ece-98a3-c069db18b5de"
      },
      "cell_type": "code",
      "source": [
        "mnist = tf.contrib.learn.datasets.load_dataset(\"mnist\")"
      ],
      "execution_count": 3,
      "outputs": [
        {
          "output_type": "stream",
          "text": [
            "WARNING:tensorflow:From <ipython-input-3-5f45bee47b71>:1: load_dataset (from tensorflow.contrib.learn.python.learn.datasets) is deprecated and will be removed in a future version.\n",
            "Instructions for updating:\n",
            "Please use tf.data.\n",
            "WARNING:tensorflow:From /usr/local/lib/python3.6/dist-packages/tensorflow/contrib/learn/python/learn/datasets/__init__.py:80: load_mnist (from tensorflow.contrib.learn.python.learn.datasets.mnist) is deprecated and will be removed in a future version.\n",
            "Instructions for updating:\n",
            "Please use alternatives such as official/mnist/dataset.py from tensorflow/models.\n",
            "WARNING:tensorflow:From /usr/local/lib/python3.6/dist-packages/tensorflow/contrib/learn/python/learn/datasets/mnist.py:300: read_data_sets (from tensorflow.contrib.learn.python.learn.datasets.mnist) is deprecated and will be removed in a future version.\n",
            "Instructions for updating:\n",
            "Please use alternatives such as official/mnist/dataset.py from tensorflow/models.\n",
            "WARNING:tensorflow:From /usr/local/lib/python3.6/dist-packages/tensorflow/contrib/learn/python/learn/datasets/mnist.py:260: maybe_download (from tensorflow.contrib.learn.python.learn.datasets.base) is deprecated and will be removed in a future version.\n",
            "Instructions for updating:\n",
            "Please write your own downloading logic.\n",
            "WARNING:tensorflow:From /usr/local/lib/python3.6/dist-packages/tensorflow/contrib/learn/python/learn/datasets/base.py:252: _internal_retry.<locals>.wrap.<locals>.wrapped_fn (from tensorflow.contrib.learn.python.learn.datasets.base) is deprecated and will be removed in a future version.\n",
            "Instructions for updating:\n",
            "Please use urllib or similar directly.\n",
            "Successfully downloaded train-images-idx3-ubyte.gz 9912422 bytes.\n",
            "WARNING:tensorflow:From /usr/local/lib/python3.6/dist-packages/tensorflow/contrib/learn/python/learn/datasets/mnist.py:262: extract_images (from tensorflow.contrib.learn.python.learn.datasets.mnist) is deprecated and will be removed in a future version.\n",
            "Instructions for updating:\n",
            "Please use tf.data to implement this functionality.\n",
            "Extracting MNIST-data/train-images-idx3-ubyte.gz\n",
            "Successfully downloaded train-labels-idx1-ubyte.gz 28881 bytes.\n",
            "WARNING:tensorflow:From /usr/local/lib/python3.6/dist-packages/tensorflow/contrib/learn/python/learn/datasets/mnist.py:267: extract_labels (from tensorflow.contrib.learn.python.learn.datasets.mnist) is deprecated and will be removed in a future version.\n",
            "Instructions for updating:\n",
            "Please use tf.data to implement this functionality.\n",
            "Extracting MNIST-data/train-labels-idx1-ubyte.gz\n",
            "Successfully downloaded t10k-images-idx3-ubyte.gz 1648877 bytes.\n",
            "Extracting MNIST-data/t10k-images-idx3-ubyte.gz\n",
            "Successfully downloaded t10k-labels-idx1-ubyte.gz 4542 bytes.\n",
            "Extracting MNIST-data/t10k-labels-idx1-ubyte.gz\n",
            "WARNING:tensorflow:From /usr/local/lib/python3.6/dist-packages/tensorflow/contrib/learn/python/learn/datasets/mnist.py:290: DataSet.__init__ (from tensorflow.contrib.learn.python.learn.datasets.mnist) is deprecated and will be removed in a future version.\n",
            "Instructions for updating:\n",
            "Please use alternatives such as official/mnist/dataset.py from tensorflow/models.\n"
          ],
          "name": "stdout"
        }
      ]
    },
    {
      "metadata": {
        "id": "lp_8YMra5d9L",
        "colab_type": "code",
        "colab": {
          "base_uri": "https://localhost:8080/",
          "height": 34
        },
        "outputId": "06f3804f-52de-4ac9-84de-8dbb9b91db18"
      },
      "cell_type": "code",
      "source": [
        "train_data = mnist.train.images\n",
        "# train_labels = np.asarray(mnist.train.labels, dtype=np.int32)\n",
        "# test_data = mnist.test.images\n",
        "# test_labels = np.asarray(mnist.test.labels, dtype=np.int32)\n",
        "x=np.asarray(mnist.train.labels,dtype=np.int32)\n",
        "type(train_data)\n",
        "train_label=mnist.train.labels\n",
        "print(type(x),type(train_data))"
      ],
      "execution_count": 10,
      "outputs": [
        {
          "output_type": "stream",
          "text": [
            "<class 'numpy.ndarray'> <class 'numpy.ndarray'>\n"
          ],
          "name": "stdout"
        }
      ]
    },
    {
      "metadata": {
        "id": "YQPvApnw5jhW",
        "colab_type": "code",
        "colab": {
          "base_uri": "https://localhost:8080/",
          "height": 17
        },
        "outputId": "726b2cc1-0b8e-4bc2-b67d-fc5e6085f29e"
      },
      "cell_type": "code",
      "source": [
        "def oneHotEncoding(Y):\n",
        "    #Y=np.array(Y.T)\n",
        "    Y=np.array(Y.T).astype(int)\n",
        "    max_Y=np.amax(Y)\n",
        "    print(max_Y,'maximum value of max_Y')\n",
        "    print(np.amin(Y),'minimum value of Y')\n",
        "    size=Y.shape[0]\n",
        "    a=np.zeros((size, max_Y+1))\n",
        "    print(a.shape,'a shape\\n',size,'size')\n",
        "    print(np.arange(size)[-1],'\\t',Y.shape)\n",
        "    a[np.arange(size),Y]=1\n",
        "    return a"
      ],
      "execution_count": 4,
      "outputs": []
    },
    {
      "metadata": {
        "id": "h7DLZc3zDsej",
        "colab_type": "code",
        "colab": {
          "base_uri": "https://localhost:8080/",
          "height": 102
        },
        "outputId": "61fea0ce-4b9e-4a0c-9c94-44c621331ecb"
      },
      "cell_type": "code",
      "source": [
        "# Y = oneHotEncoding(test_labels)"
      ],
      "execution_count": 5,
      "outputs": [
        {
          "output_type": "stream",
          "text": [
            "9 maximum value of max_Y\n",
            "0 minimum value of Y\n",
            "(10000, 10) a shape\n",
            " 10000 size\n",
            "9999 \t (10000,)\n"
          ],
          "name": "stdout"
        }
      ]
    },
    {
      "metadata": {
        "id": "evjQEeLu6Vnb",
        "colab_type": "code",
        "colab": {}
      },
      "cell_type": "code",
      "source": [
        "# input_layers = tf.reshape(test_data,[-1,28,28,1])\n",
        "# Z1 = tf.layers.conv2d(inputs=input_layers,filters=45,kernel_size=[5,5],padding=\"same\",activation=tf.nn.relu)\n",
        "# pool1 = tf.layers.max_pooling2d(inputs=Z1, pool_size=[2, 2], strides=2)\n",
        "# conv2 = tf.layers.conv2d(inputs=pool1,filters=64,kernel_size=[5, 5],padding=\"same\",activation=tf.nn.relu)\n",
        "# pool2 = tf.layers.max_pooling2d(inputs=conv2, pool_size=[2, 2], strides=2)\n",
        "# P2 = tf.reshape(pool2, [-1, 7 * 7 * 64])\n",
        "# Z3 = tf.contrib.layers.fully_connected(P2, 10,activation_fn=None)\n",
        "# Y = tf.one_hot(indices=tf.cast(test_labels, tf.int32), depth=10)\n",
        "# #loss = tf.losses.softmax_cross_entropy(onehot_labels=Y, logits=Z3)\n",
        "# loss = tf.reduce_mean(tf.nn.softmax_cross_entropy_with_logits(logits = Z3, labels = Y))"
      ],
      "execution_count": 0,
      "outputs": []
    },
    {
      "metadata": {
        "id": "Jz_RdP2t7rUw",
        "colab_type": "code",
        "colab": {}
      },
      "cell_type": "code",
      "source": [
        "# with tf.Session() as sess_test:\n",
        "#   init = tf.global_variables_initializer()\n",
        "#   sess_test.run(init)\n",
        "#   a = sess_test.run(loss)"
      ],
      "execution_count": 0,
      "outputs": []
    },
    {
      "metadata": {
        "id": "s5re9wqw70PI",
        "colab_type": "code",
        "colab": {}
      },
      "cell_type": "code",
      "source": [
        "# print(a)"
      ],
      "execution_count": 0,
      "outputs": []
    },
    {
      "metadata": {
        "id": "HibzaBxs-OU3",
        "colab_type": "code",
        "colab": {}
      },
      "cell_type": "code",
      "source": [
        "# test_labels[0]"
      ],
      "execution_count": 0,
      "outputs": []
    },
    {
      "metadata": {
        "id": "AVAjBFdwB-rl",
        "colab_type": "code",
        "colab": {}
      },
      "cell_type": "code",
      "source": [
        "class CNNTest:\n",
        "  \n",
        "  def datasetPreparataion(self):\n",
        "    mnist = tf.contrib.learn.datasets.load_dataset(\"mnist\")\n",
        "    train_data = mnist.train.images\n",
        "    train_labels = np.asarray(mnist.train.labels, dtype=np.int32)\n",
        "    test_data = mnist.test.images\n",
        "    test_labels = np.asarray(mnist.test.labels, dtype=np.int32)\n",
        "    train_label_one_hot = self.oneHotEncoding(train_labels)\n",
        "    test_label_one_hot = self.oneHotEncoding(test_labels)\n",
        "    return train_data,train_label_one_hot,test_data,test_label_one_hot\n",
        "  \n",
        "  def placeHolder(self,n_H0,n_W0,n_C0,n_y):\n",
        "    X = tf.placeholder(tf.float32,shape=(None,n_H0,n_W0,n_C0),name='X')\n",
        "    Y = tf.placeholder(tf.float32,shape=(None,n_y),name='Y')\n",
        "    return X,Y\n",
        "  \n",
        "  def oneHotEncoding(self,Y):\n",
        "    Y=np.array(Y.T).astype(int)\n",
        "    max_Y=np.amax(Y)\n",
        "    #print(max_Y,'maximum value of max_Y')\n",
        "    #print(np.amin(Y),'minimum value of Y')\n",
        "    size=Y.shape[0]\n",
        "    a=np.zeros((size, max_Y+1))\n",
        "    #print(a.shape,'a shape\\n',size,'size')\n",
        "    #print(np.arange(size)[-1],'\\t',Y.shape)\n",
        "    a[np.arange(size),Y]=1\n",
        "    return a\n",
        "  \n",
        "  def xavierInitialization(self):\n",
        "    tf.set_random_seed(1)\n",
        "    W1 = tf.get_variable('W1',[5,5,1,8],initializer=tf.contrib.layers.xavier_initializer(seed=0))\n",
        "    W2 = tf.get_variable('W2',[5,5,8,16],initializer=tf.contrib.layers.xavier_initializer(seed=0))\n",
        "    parameters = {'W1':W1,'W2':W2}\n",
        "    return parameters\n",
        "  \n",
        "  def forward_propagation(self,X,parameters):\n",
        "    W1 = parameters['W1']\n",
        "    W2 = parameters['W2']\n",
        "    Z1 = tf.nn.conv2d(X,W1, strides = [1,1,1,1], padding = 'SAME')\n",
        "    A1 = tf.nn.relu(Z1)\n",
        "    print(W1.shape,'W1 shape')\n",
        "    print(W2.shape,'W2 shape')\n",
        "    print(A1,'A1')\n",
        "    tf.print(A1,[A1])\n",
        "    print('flagged')\n",
        "    #print(Z1.shape,A1.shape)\n",
        "    P1 = tf.nn.max_pool(A1, ksize = [1,8,8,1], strides = [1,8,8,1], padding = 'SAME')\n",
        "    Z2 = tf.nn.conv2d(P1,W2, strides = [1,1,1,1], padding = 'SAME')\n",
        "    A2 = tf.nn.relu(Z2)\n",
        "    #print(A2.shape)\n",
        "    P2 = tf.nn.max_pool(A2, ksize = [1,4,4,1], strides = [1,4,4,1], padding = 'SAME')\n",
        "    P2 = tf.contrib.layers.flatten(P2)\n",
        "    Z3 = tf.contrib.layers.fully_connected(P2, 10,activation_fn=None)\n",
        "    #print(Z3,'Z3 assigned value')\n",
        "    print(Z3,'Z3')\n",
        "    return Z3\n",
        "  \n",
        "  def compute_cost(self,Z3, Y):\n",
        "    #print (Z3.shape,'\\n',Y.shape,'compute cost\\n')\n",
        "    cost = tf.reduce_mean(tf.nn.softmax_cross_entropy_with_logits(logits = Z3, labels = Y))\n",
        "    return cost  \n",
        "  \n",
        "  def random_shuffle(self,X,Y,seed,mini_batch_size=64):\n",
        "    np.random.seed(seed)\n",
        "    m=X.shape[1]\n",
        "    mini_batches = []\n",
        "    permutation = list(np.random.permutation(m))\n",
        "    #print(X.shape)\n",
        "    #print(Y.shape)\n",
        "    shuffled_X = X[:, permutation]\n",
        "    shuffled_Y = Y[:, permutation]\n",
        "    num_complete_minibatches = math.floor(m/mini_batch_size)\n",
        "    for k in range(0, num_complete_minibatches):\n",
        "        mini_batch_X = shuffled_X[:,k * mini_batch_size:(k + 1) * mini_batch_size]\n",
        "        mini_batch_Y = shuffled_Y[:,k * mini_batch_size:(k + 1) * mini_batch_size]\n",
        "        mini_batch = (mini_batch_X, mini_batch_Y)\n",
        "        mini_batches.append(mini_batch)\n",
        "\n",
        "    if m%mini_batch_size !=0:\n",
        "        end = m-mini_batch_size*(math.floor(m/mini_batch_size))\n",
        "        mini_batch_X = shuffled_X[:,-end:]\n",
        "        mini_batch_Y = shuffled_Y[:,-end:]\n",
        "        mini_batch = (mini_batch_X, mini_batch_Y)\n",
        "        mini_batches.append(mini_batch)\n",
        "\n",
        "    return mini_batches \n",
        "\n",
        "  def model(self,X_train,Y_train,X_test,Y_test,learning_rate = 0.009,num_epochs = 1, minibatch_size = 128):  \n",
        "    \n",
        "    ops.reset_default_graph()\n",
        "    tf.set_random_seed(1)\n",
        "    seed = 42\n",
        "    costs=[]\n",
        "    train_m = X_train.shape[0]\n",
        "    (m, n_H0, n_W0, n_C0) = X_train.reshape(train_m,28,28,1).shape\n",
        "    n_y = Y_train.shape[1]\n",
        "    X,Y = self.placeHolder(n_H0, n_W0, n_C0,n_y)\n",
        "    parameters = self.xavierInitialization()\n",
        "    Z3 = self.forward_propagation(X_train.reshape(train_m,28,28,1),parameters)\n",
        "    cost = self.compute_cost(Z3,Y_train)\n",
        "    optimizer = tf.train.AdamOptimizer(learning_rate=learning_rate).minimize(cost)\n",
        "    init = tf.global_variables_initializer()\n",
        "    saver = tf.train.Saver()\n",
        "    with tf.Session(config=tf.ConfigProto(log_device_placement=True)) as sess:\n",
        "      sess.run(init)\n",
        "      \n",
        "      for epoch in range(num_epochs):\n",
        "        minibatch_cost = 0.\n",
        "        num_minibatches = int (m/minibatch_size)\n",
        "        seed = seed + 1\n",
        "        X_train = X_train/255\n",
        "        minicounter = 0\n",
        "        minibatches = self.random_shuffle(X_train.T,Y_train.T,seed)\n",
        "        print(minicounter,'minibatchcounter',epoch,'epoch')\n",
        "        for minibatch in minibatches:\n",
        "          minicounter += 1\n",
        "          (mini_x,mini_y) = minibatch\n",
        "          shape_m=mini_x.shape[1]\n",
        "          mini_x=mini_x.reshape(shape_m,28,28,1)\n",
        "          mini_y=mini_y.T\n",
        "          #print(mini_x.shape,' mini_x shape \\n',mini_y.shape,' mini_y shape \\n',num_minibatches,'number of mini batches \\n')\n",
        "          _ , temp_cost = sess.run([optimizer, cost], feed_dict={X:mini_x, Y:mini_y})\n",
        "          minibatch_cost += temp_cost / num_minibatches\n",
        "          #print(minibatch_cost,'minibatch_cost \\n',temp_cost,'temp_cost \\n')\n",
        "#         X_train_temp = X_train.reshape(m,28,28,1)\n",
        "#         optimizer,cost = sess.run([optimizer,cost],feed_dict={X:X_train_temp,Y:Y_train})\n",
        "          costs.append(minibatch_cost)\n",
        "      saver.save(sess, '/content/alexnet_optimised-model.ckpt')\n",
        "      plt.plot(np.squeeze(costs))\n",
        "      plt.ylabel('cost')\n",
        "      plt.xlabel('iterations (per tens)')\n",
        "      plt.title(\"Learning rate =\" + str(learning_rate))\n",
        "      plt.show()\n",
        "    \n",
        "      predict_op = tf.argmax(Z3, 1)\n",
        "      print(Z3.shape,'Z3')\n",
        "      print(Y_train.shape,'Y_train')\n",
        "#       correct_prediction = tf.equal(predict_op, tf.argmax(Y_train, 1))\n",
        "#       accuracy = tf.reduce_mean(tf.cast(correct_prediction,\"float\"))\n",
        "#     #print(correct_prediction)\n",
        "#     #print(accuracy)\n",
        "#       X_train = X_train.reshape(m,28,28,1)\n",
        "#       m_test = X_test.shape[0]\n",
        "#       X_test = X_test.reshape(m_test,28,28,1)\n",
        "#       train_accuracy = accuracy.eval(session=sess,feed_dict={X: X_train, Y: Y_train})\n",
        "#       test_accuracy = accuracy.eval(session=sess,feed_dict={X: X_test, Y: Y_test})\n",
        "#       print(\"Train Accuracy:\", train_accuracy)\n",
        "#       print(\"Test_accuracy:\",test_accuracy)\n",
        "      \n",
        "      \n",
        "    \n",
        "    return train_accuracy\n",
        "  \n",
        "  \n",
        "  def model_restore_check(self,test_data):\n",
        "    ops.reset_default_graph()\n",
        "    test_m=test_data.shape[0]\n",
        "    (m, n_H0, n_W0, n_C0) = test_data.reshape(1,28,28,1).shape\n",
        "    parameters = self.xavierInitialization()\n",
        "    X,Y = self.placeHolder(n_H0, n_W0, n_C0,10)\n",
        "    Z3 = self.forward_propagation(test_data.reshape(1,28,28,1),parameters)\n",
        "    #cost = self.compute_cost(Z3,Y_train)\n",
        "    #optimizer = tf.train.AdamOptimizer(learning_rate=learning_rate).minimize(cost)\n",
        "    #init = tf.global_variables_initializer()\n",
        "    saver = tf.train.Saver()\n",
        "    with tf.Session(config=tf.ConfigProto(log_device_placement=True)) as sess:\n",
        "      test_X=test_data.reshape(1,28,28,1)\n",
        "      saver.restore(sess, '/content/alexnet_optimised-model.ckpt')\n",
        "      Z3 = sess.run(Z3, feed_dict={X:test_X})\n",
        "      print(Z3.shape,'\\n',Z3)\n",
        "      tf.print(Z3,[Z3])\n",
        "      predict_op = tf.argmax(Z3, 1)\n",
        "      #tf.print(predict_op,[predict_op])\n",
        "    return predict_op\n",
        "    "
      ],
      "execution_count": 0,
      "outputs": []
    },
    {
      "metadata": {
        "id": "tEhk2l9ZM5l3",
        "colab_type": "code",
        "colab": {
          "base_uri": "https://localhost:8080/",
          "height": 85
        },
        "outputId": "3bbada66-8fc1-4507-80ef-3b03e5c2b728"
      },
      "cell_type": "code",
      "source": [
        "cnn = CNNTest()\n",
        "dataset=cnn.datasetPreparataion()\n",
        "train_data = dataset[0]\n",
        "train_label= dataset[1]\n",
        "test_data = dataset[2]\n",
        "test_label = dataset[3]\n",
        "\n",
        "# print(train_data.shape,'\\t','\\n',train_label.shape,'\\t',train_label[0])\n",
        "# def image_test(matrix):\n",
        "#   plt.imshow(matrix.reshape(28,28))\n",
        "#   plt.show()\n",
        "  \n",
        "# image_test(train_data[0])  "
      ],
      "execution_count": 9,
      "outputs": [
        {
          "output_type": "stream",
          "text": [
            "Extracting MNIST-data/train-images-idx3-ubyte.gz\n",
            "Extracting MNIST-data/train-labels-idx1-ubyte.gz\n",
            "Extracting MNIST-data/t10k-images-idx3-ubyte.gz\n",
            "Extracting MNIST-data/t10k-labels-idx1-ubyte.gz\n"
          ],
          "name": "stdout"
        }
      ]
    },
    {
      "metadata": {
        "id": "xoPicalvN03C",
        "colab_type": "code",
        "colab": {
          "base_uri": "https://localhost:8080/",
          "height": 719
        },
        "outputId": "1632b01f-6a90-4ace-d284-20e172dbabb1"
      },
      "cell_type": "code",
      "source": [
        "n_y = cnn.model(train_data,train_label,test_data,test_label)\n",
        "print(n_y)"
      ],
      "execution_count": 7,
      "outputs": [
        {
          "output_type": "stream",
          "text": [
            "(5, 5, 1, 8) W1 shape\n",
            "(5, 5, 8, 16) W2 shape\n",
            "Tensor(\"Relu:0\", shape=(55000, 28, 28, 8), dtype=float32) A1\n",
            "flagged\n",
            "Tensor(\"fully_connected/BiasAdd:0\", shape=(55000, 10), dtype=float32) Z3\n",
            "WARNING:tensorflow:From <ipython-input-3-7b3ff5ce6726>:61: softmax_cross_entropy_with_logits (from tensorflow.python.ops.nn_ops) is deprecated and will be removed in a future version.\n",
            "Instructions for updating:\n",
            "\n",
            "Future major versions of TensorFlow will allow gradients to flow\n",
            "into the labels input on backprop by default.\n",
            "\n",
            "See @{tf.nn.softmax_cross_entropy_with_logits_v2}.\n",
            "\n",
            "0 minibatchcounter 0 epoch\n"
          ],
          "name": "stdout"
        },
        {
          "output_type": "display_data",
          "data": {
            "image/png": "[encoded data removed]",
            "text/plain": [
              "<matplotlib.figure.Figure at 0x7fe2d71c4cf8>"
            ]
          },
          "metadata": {
            "tags": []
          }
        },
        {
          "output_type": "stream",
          "text": [
            "(55000, 10) Z3\n",
            "(55000, 10) Y_train\n",
            "Train Accuracy: 0.9881818\n",
            "Test_accuracy: 0.9881818\n",
            "0.9881818\n"
          ],
          "name": "stdout"
        }
      ]
    },
    {
      "metadata": {
        "id": "iDmzmWbFSdj7",
        "colab_type": "code",
        "colab": {
          "base_uri": "https://localhost:8080/",
          "height": 34
        },
        "outputId": "4a7fb7d3-ba9b-4dd5-948f-fed3c4fc51f1"
      },
      "cell_type": "code",
      "source": [
        "import tensorflow as tf\n",
        "device_name = tf.test.gpu_device_name()\n",
        "if device_name != '/device:GPU:0':\n",
        "  raise SystemError('GPU device not found')\n",
        "print('Found GPU at: {}'.format(device_name))"
      ],
      "execution_count": 10,
      "outputs": [
        {
          "output_type": "stream",
          "text": [
            "Found GPU at: /device:GPU:0\n"
          ],
          "name": "stdout"
        }
      ]
    },
    {
      "metadata": {
        "id": "0n_TDAJ2JtRg",
        "colab_type": "code",
        "colab": {
          "base_uri": "https://localhost:8080/",
          "height": 34
        },
        "outputId": "b4749437-391c-4fe7-bb0d-71d7dc15fe1a"
      },
      "cell_type": "code",
      "source": [
        "import os\n",
        "print(os.getcwd())"
      ],
      "execution_count": 5,
      "outputs": [
        {
          "output_type": "stream",
          "text": [
            "/content\n"
          ],
          "name": "stdout"
        }
      ]
    },
    {
      "metadata": {
        "id": "zE8bNIccRhGy",
        "colab_type": "code",
        "colab": {}
      },
      "cell_type": "code",
      "source": [
        "# with open(\"/content/textfile1.txt\",'w') as f:\n",
        "#   f.write(\"Hello Ashwin\")"
      ],
      "execution_count": 0,
      "outputs": []
    },
    {
      "metadata": {
        "id": "XPPCVvPOSAIX",
        "colab_type": "code",
        "colab": {
          "base_uri": "https://localhost:8080/",
          "height": 34
        },
        "outputId": "fffaf475-49e5-4352-d021-98aae2077234"
      },
      "cell_type": "code",
      "source": [
        "print(os.listdir('/content'))"
      ],
      "execution_count": 6,
      "outputs": [
        {
          "output_type": "stream",
          "text": [
            "['datalab', '.forever', '.config', '.keras', 'MNIST-data', '.ipython', '.local', '.cache']\n"
          ],
          "name": "stdout"
        }
      ]
    },
    {
      "metadata": {
        "id": "aVz3X5_aSFP5",
        "colab_type": "code",
        "colab": {
          "base_uri": "https://localhost:8080/",
          "height": 17
        },
        "outputId": "f48b3e78-adaf-45ca-b647-2ad4a6286270"
      },
      "cell_type": "code",
      "source": [
        "\n",
        "# tf.reset_default_graph()\n",
        "# saver = tf.train.Saver('alexnet_optimised-model.ckpt.meta')\n",
        "# with tf.Session() as sess:\n",
        "#   saver.restore(sess, \"/content/alexnet_optimised-model.ckpt.data-00000-of-00001\")\n",
        "#   print(\"model restored\")"
      ],
      "execution_count": 33,
      "outputs": []
    },
    {
      "metadata": {
        "id": "mSoGq3vu65Au",
        "colab_type": "text"
      },
      "cell_type": "markdown",
      "source": [
        "Identifying the checkpoint details"
      ]
    },
    {
      "metadata": {
        "id": "9Jd2LB8vd62s",
        "colab_type": "code",
        "colab": {}
      },
      "cell_type": "code",
      "source": [
        "# import tensorflow as tf\n",
        "# from tensorflow.python.tools.inspect_checkpoint import print_tensors_in_checkpoint_file\n",
        "# latest_ckp = tf.train.latest_checkpoint('/content/')\n",
        "# print_tensors_in_checkpoint_file(latest_ckp, all_tensors=True, tensor_name='')"
      ],
      "execution_count": 0,
      "outputs": []
    },
    {
      "metadata": {
        "id": "IpHuATtm6vdT",
        "colab_type": "code",
        "colab": {
          "base_uri": "https://localhost:8080/",
          "height": 221
        },
        "outputId": "05ba9434-86c8-4b77-86ed-ccceb8ac41f7"
      },
      "cell_type": "code",
      "source": [
        "train_data=train_data[108,:]\n",
        "print(train_data.shape)\n",
        "print(train_data.shape[0])\n",
        "n_y = cnn.model_restore_check(train_data)\n",
        "print(n_y,'something')"
      ],
      "execution_count": 11,
      "outputs": [
        {
          "output_type": "stream",
          "text": [
            "(784,)\n",
            "784\n",
            "(5, 5, 1, 8) W1 shape\n",
            "(5, 5, 8, 16) W2 shape\n",
            "Tensor(\"Relu:0\", shape=(1, 28, 28, 8), dtype=float32) A1\n",
            "flagged\n",
            "Tensor(\"fully_connected/BiasAdd:0\", shape=(1, 10), dtype=float32) Z3\n",
            "INFO:tensorflow:Restoring parameters from /content/alexnet_optimised-model.ckpt\n",
            "(1, 10) \n",
            " [[ 17.695946  -12.252617   -2.7384522 -10.824662  -11.063417   -4.1631417\n",
            "   -1.2140809  -5.5373178  -2.277765   -2.0770075]]\n",
            "Tensor(\"ArgMax:0\", shape=(1,), dtype=int64) something\n"
          ],
          "name": "stdout"
        }
      ]
    },
    {
      "metadata": {
        "id": "E7wh4QFPIBD0",
        "colab_type": "code",
        "colab": {
          "base_uri": "https://localhost:8080/",
          "height": 198
        },
        "outputId": "9ffe4555-1ad8-44f1-c5d4-9e1e6c040c07"
      },
      "cell_type": "code",
      "source": [
        "# [[-22.122187   -9.202263   -1.3403115   5.934069   -1.1212378  -5.8111787\n",
        "#   -25.835377    9.218367   -8.955311    3.684071 ]]\n",
        "\n",
        "def image_test(matrix):\n",
        "  plt.imshow(matrix.reshape(28,28))\n",
        "  plt.show()\n",
        "  \n",
        "image_test(train_data)  "
      ],
      "execution_count": 1,
      "outputs": [
        {
          "output_type": "error",
          "ename": "NameError",
          "evalue": "ignored",
          "traceback": [
            "\u001b[0;31m---------------------------------------------------------------------------\u001b[0m",
            "\u001b[0;31mNameError\u001b[0m                                 Traceback (most recent call last)",
            "\u001b[0;32m<ipython-input-1-f2f9ac6d95f5>\u001b[0m in \u001b[0;36m<module>\u001b[0;34m()\u001b[0m\n\u001b[1;32m      4\u001b[0m   \u001b[0mplt\u001b[0m\u001b[0;34m.\u001b[0m\u001b[0mshow\u001b[0m\u001b[0;34m(\u001b[0m\u001b[0;34m)\u001b[0m\u001b[0;34m\u001b[0m\u001b[0m\n\u001b[1;32m      5\u001b[0m \u001b[0;34m\u001b[0m\u001b[0m\n\u001b[0;32m----> 6\u001b[0;31m \u001b[0mimage_test\u001b[0m\u001b[0;34m(\u001b[0m\u001b[0mtrain_data\u001b[0m\u001b[0;34m)\u001b[0m\u001b[0;34m\u001b[0m\u001b[0m\n\u001b[0m",
            "\u001b[0;31mNameError\u001b[0m: name 'train_data' is not defined"
          ]
        }
      ]
    },
    {
      "metadata": {
        "id": "6Cwl0LhU2vZf",
        "colab_type": "text"
      },
      "cell_type": "markdown",
      "source": [
        "DataSet Understanding"
      ]
    },
    {
      "metadata": {
        "id": "goEgW0kb2uN0",
        "colab_type": "code",
        "colab": {
          "base_uri": "https://localhost:8080/",
          "height": 34
        },
        "outputId": "77dbb18c-463e-41a6-92e3-0752a52f9319"
      },
      "cell_type": "code",
      "source": [
        "len(dataset)"
      ],
      "execution_count": 10,
      "outputs": [
        {
          "output_type": "execute_result",
          "data": {
            "text/plain": [
              "4"
            ]
          },
          "metadata": {
            "tags": []
          },
          "execution_count": 10
        }
      ]
    },
    {
      "metadata": {
        "id": "CVeS9YUy3RHD",
        "colab_type": "code",
        "colab": {}
      },
      "cell_type": "code",
      "source": [
        "train_data=dataset[0]\n",
        "train_label=dataset[1]\n",
        "test_data=dataset[2]\n",
        "test_label=dataset[3]"
      ],
      "execution_count": 0,
      "outputs": []
    },
    {
      "metadata": {
        "id": "sgWE4QII35Ii",
        "colab_type": "text"
      },
      "cell_type": "markdown",
      "source": [
        "Verification of the shape of the above dataset"
      ]
    },
    {
      "metadata": {
        "id": "_eIWdGks3mYS",
        "colab_type": "code",
        "colab": {
          "base_uri": "https://localhost:8080/",
          "height": 85
        },
        "outputId": "939f77a8-ec01-41c3-b72d-a4e90916fc66"
      },
      "cell_type": "code",
      "source": [
        "print('train_data:',train_data.shape,'\\ntrain_label:',train_label.shape,'\\ntest_data:',test_data.shape,'\\ntest_label:',test_label.shape) "
      ],
      "execution_count": 12,
      "outputs": [
        {
          "output_type": "stream",
          "text": [
            "train_data: (55000, 784) \n",
            "train_label: (55000, 10) \n",
            "test_data: (10000, 784) \n",
            "test_label: (10000, 10)\n"
          ],
          "name": "stdout"
        }
      ]
    },
    {
      "metadata": {
        "id": "TLu0CSjH3s-m",
        "colab_type": "text"
      },
      "cell_type": "markdown",
      "source": [
        "Let us try to print the data in the train_data corresponding to the train label as a first come first print"
      ]
    },
    {
      "metadata": {
        "id": "CIUqCL2h59nJ",
        "colab_type": "code",
        "colab": {}
      },
      "cell_type": "code",
      "source": [
        "def number_print_demo(train_label):\n",
        "  number_count=[]\n",
        "  y_print = []\n",
        "  for args in range(100,train_label.shape[0]):\n",
        "    Y=train_label[args,:]\n",
        "    Y=one_hot_to_normal([Y])\n",
        "    if len(number_count) == 10:\n",
        "      break\n",
        "    else:\n",
        "      if Y[0] not in y_print:\n",
        "        number_count.append(args)\n",
        "        y_print.append(Y[0])\n",
        "\n",
        "  return number_count,y_print\n",
        "\n",
        "def display_image(number_count,train_data):\n",
        "  indx=1\n",
        "  for index in number_count:\n",
        "    train_x=train_data[index,:]\n",
        "    matrix = train_x.reshape(28,28)\n",
        "    plt.subplot(5,5,indx)\n",
        "    plt.axis('off')\n",
        "    indx +=1\n",
        "    plt.imshow(matrix)\n",
        "#Converting one hot encoding to decimal    \n",
        "def one_hot_to_normal(train_label):\n",
        "  x=[ np.where(r==1)[0][0] for r in train_label]\n",
        "  return x    "
      ],
      "execution_count": 0,
      "outputs": []
    },
    {
      "metadata": {
        "id": "YFESO5Fc8GaK",
        "colab_type": "code",
        "colab": {
          "base_uri": "https://localhost:8080/",
          "height": 181
        },
        "outputId": "7d2da458-cfde-43e1-8d86-a9a51de43be0"
      },
      "cell_type": "code",
      "source": [
        "print_list,_=number_print_demo(train_label)\n",
        "print(print_list,_)\n",
        "display_image(print_list,train_data)"
      ],
      "execution_count": 14,
      "outputs": [
        {
          "output_type": "stream",
          "text": [
            "[100, 101, 102, 103, 106, 107, 108, 109, 112, 121] [7, 4, 3, 2, 9, 1, 0, 5, 8, 6]\n"
          ],
          "name": "stdout"
        },
        {
          "output_type": "display_data",
          "data": {
            "image/png": "[encoded data removed]",
            "text/plain": [
              "<matplotlib.figure.Figure at 0x7f5b2fe2e4e0>"
            ]
          },
          "metadata": {
            "tags": []
          }
        }
      ]
    },
    {
      "metadata": {
        "id": "0CPXGYuqqnPq",
        "colab_type": "text"
      },
      "cell_type": "markdown",
      "source": [
        "Let us now try with the shuffled data to understand the shuffle"
      ]
    },
    {
      "metadata": {
        "id": "EbDAgfrrFBV-",
        "colab_type": "code",
        "colab": {}
      },
      "cell_type": "code",
      "source": [
        "def random_shuffle(X,Y,seed):\n",
        "    np.random.seed(seed)\n",
        "    m=X.shape[0]\n",
        "    permutation = list(np.random.permutation(m))\n",
        "    shuffled_X = X[permutation,:]\n",
        "    shuffled_Y = Y[permutation,:]\n",
        "    return shuffled_X,shuffled_Y"
      ],
      "execution_count": 0,
      "outputs": []
    },
    {
      "metadata": {
        "id": "lSbMGEBQricM",
        "colab_type": "text"
      },
      "cell_type": "markdown",
      "source": [
        "We shall call the same number_print_demo and display_image method"
      ]
    },
    {
      "metadata": {
        "id": "C-AFjDZv9XbH",
        "colab_type": "code",
        "colab": {
          "base_uri": "https://localhost:8080/",
          "height": 181
        },
        "outputId": "41d7e10e-fe4c-4938-df49-d5e7576f01bc"
      },
      "cell_type": "code",
      "source": [
        "X,Y=random_shuffle(train_data,train_label,25)\n",
        "print_list,_=number_print_demo(Y)\n",
        "print(print_list,_)\n",
        "display_image(print_list,X)"
      ],
      "execution_count": 20,
      "outputs": [
        {
          "output_type": "stream",
          "text": [
            "[100, 101, 102, 103, 104, 105, 108, 110, 114, 115] [1, 0, 7, 4, 9, 8, 5, 2, 6, 3]\n"
          ],
          "name": "stdout"
        },
        {
          "output_type": "display_data",
          "data": {
            "image/png": "[encoded data removed]",
            "text/plain": [
              "<matplotlib.figure.Figure at 0x7f5b2fbccd30>"
            ]
          },
          "metadata": {
            "tags": []
          }
        }
      ]
    },
    {
      "metadata": {
        "id": "DSveNq_YAyxb",
        "colab_type": "code",
        "colab": {
          "base_uri": "https://localhost:8080/",
          "height": 34
        },
        "outputId": "a8d24f40-37b6-4494-c928-ad8955956816"
      },
      "cell_type": "code",
      "source": [
        "type(train_label[100,:])"
      ],
      "execution_count": 42,
      "outputs": [
        {
          "output_type": "execute_result",
          "data": {
            "text/plain": [
              "numpy.ndarray"
            ]
          },
          "metadata": {
            "tags": []
          },
          "execution_count": 42
        }
      ]
    },
    {
      "metadata": {
        "id": "M5KUM7HTA3to",
        "colab_type": "code",
        "colab": {}
      },
      "cell_type": "code",
      "source": [
        "def one_hot_test_ravel(Y):\n",
        "    num_labels = Y.shape[0]\n",
        "    offset = np.arange(num_labels)*10\n",
        "    max_Y=np.amax(Y)\n",
        "    print(max_Y)\n",
        "    size=Y.shape[0]\n",
        "    a=np.zeros((size, 10))\n",
        "    print(a)\n",
        "    x=offset+Y.ravel()\n",
        "    print(offset)\n",
        "    print(Y)\n",
        "    print(x)\n",
        "    a.flat[x]=1\n",
        "    print(a)\n",
        "    return a\n",
        "  "
      ],
      "execution_count": 0,
      "outputs": []
    },
    {
      "metadata": {
        "id": "vbGVrtv5BkYj",
        "colab_type": "code",
        "colab": {
          "base_uri": "https://localhost:8080/",
          "height": 425
        },
        "outputId": "3624d04f-30db-4eb9-f761-433274b51d01"
      },
      "cell_type": "code",
      "source": [
        "input_label=np.arange(0,10)\n",
        "a=one_hot_test_ravel(input_label)"
      ],
      "execution_count": 77,
      "outputs": [
        {
          "output_type": "stream",
          "text": [
            "9\n",
            "[[0. 0. 0. 0. 0. 0. 0. 0. 0. 0.]\n",
            " [0. 0. 0. 0. 0. 0. 0. 0. 0. 0.]\n",
            " [0. 0. 0. 0. 0. 0. 0. 0. 0. 0.]\n",
            " [0. 0. 0. 0. 0. 0. 0. 0. 0. 0.]\n",
            " [0. 0. 0. 0. 0. 0. 0. 0. 0. 0.]\n",
            " [0. 0. 0. 0. 0. 0. 0. 0. 0. 0.]\n",
            " [0. 0. 0. 0. 0. 0. 0. 0. 0. 0.]\n",
            " [0. 0. 0. 0. 0. 0. 0. 0. 0. 0.]\n",
            " [0. 0. 0. 0. 0. 0. 0. 0. 0. 0.]\n",
            " [0. 0. 0. 0. 0. 0. 0. 0. 0. 0.]]\n",
            "[ 0 10 20 30 40 50 60 70 80 90]\n",
            "[0 1 2 3 4 5 6 7 8 9]\n",
            "[ 0 11 22 33 44 55 66 77 88 99]\n",
            "[[1. 0. 0. 0. 0. 0. 0. 0. 0. 0.]\n",
            " [0. 1. 0. 0. 0. 0. 0. 0. 0. 0.]\n",
            " [0. 0. 1. 0. 0. 0. 0. 0. 0. 0.]\n",
            " [0. 0. 0. 1. 0. 0. 0. 0. 0. 0.]\n",
            " [0. 0. 0. 0. 1. 0. 0. 0. 0. 0.]\n",
            " [0. 0. 0. 0. 0. 1. 0. 0. 0. 0.]\n",
            " [0. 0. 0. 0. 0. 0. 1. 0. 0. 0.]\n",
            " [0. 0. 0. 0. 0. 0. 0. 1. 0. 0.]\n",
            " [0. 0. 0. 0. 0. 0. 0. 0. 1. 0.]\n",
            " [0. 0. 0. 0. 0. 0. 0. 0. 0. 1.]]\n"
          ],
          "name": "stdout"
        }
      ]
    },
    {
      "metadata": {
        "id": "onR77Hty08dH",
        "colab_type": "code",
        "colab": {}
      },
      "cell_type": "code",
      "source": [
        "a.flat[6]=1"
      ],
      "execution_count": 0,
      "outputs": []
    },
    {
      "metadata": {
        "id": "E688lr4Q1JsR",
        "colab_type": "code",
        "colab": {
          "base_uri": "https://localhost:8080/",
          "height": 68
        },
        "outputId": "dad72ac6-76e3-4ffb-9d8c-33e80f5df5d8"
      },
      "cell_type": "code",
      "source": [
        "a"
      ],
      "execution_count": 48,
      "outputs": [
        {
          "output_type": "execute_result",
          "data": {
            "text/plain": [
              "array([[0., 0., 0.],\n",
              "       [0., 0., 0.],\n",
              "       [1., 0., 0.]])"
            ]
          },
          "metadata": {
            "tags": []
          },
          "execution_count": 48
        }
      ]
    },
    {
      "metadata": {
        "id": "llObv3Mi1RHY",
        "colab_type": "code",
        "colab": {}
      },
      "cell_type": "code",
      "source": [
        ""
      ],
      "execution_count": 0,
      "outputs": []
    }
  ]
}