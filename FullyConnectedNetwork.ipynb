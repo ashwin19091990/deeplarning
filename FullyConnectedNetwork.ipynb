{
  "nbformat": 4,
  "nbformat_minor": 0,
  "metadata": {
    "colab": {
      "name": "FullyConnectedNetwork.ipynb",
      "version": "0.3.2",
      "provenance": [],
      "collapsed_sections": []
    },
    "kernelspec": {
      "name": "python3",
      "display_name": "Python 3"
    },
    "accelerator": "GPU"
  },
  "cells": [
    {
      "cell_type": "markdown",
      "metadata": {
        "id": "view-in-github",
        "colab_type": "text"
      },
      "source": [
        "[View in Colaboratory](https://colab.research.google.com/github/ashwin19091990/deeplarning/blob/master/FullyConnectedNetwork.ipynb)"
      ]
    },
    {
      "metadata": {
        "id": "YWlENjZxgPzD",
        "colab_type": "code",
        "colab": {}
      },
      "cell_type": "code",
      "source": [
        "import numpy as np\n",
        "import matplotlib.pyplot as plt \n",
        "import os\n",
        "from google.colab import files"
      ],
      "execution_count": 0,
      "outputs": []
    },
    {
      "metadata": {
        "id": "jMGoABGNgwB2",
        "colab_type": "code",
        "colab": {}
      },
      "cell_type": "code",
      "source": [
        "class DataSetProcess:\n",
        "  \n",
        "  \n",
        "  def file_reader(self,num_images,filename):\n",
        "    with open(filename,'rb') as f:\n",
        "        f.read(16)\n",
        "        buf = f.read(28 * 28 * num_images)\n",
        "        data = np.frombuffer(buf, dtype=np.uint8).astype(np.float32)\n",
        "        data = data.reshape(num_images, 28, 28, 1)\n",
        "        \n",
        "        return data\n",
        "      \n",
        "  def label_reader(self,num_images,filename):\n",
        "    with open(filename,'rb') as f:\n",
        "        f.read(8)\n",
        "        buf = f.read(1 * num_images)\n",
        "        labels = np.frombuffer(buf, dtype=np.uint8).astype(np.int64)\n",
        "        \n",
        "        return labels   \n",
        "\n",
        "  \n",
        "  def train_test_creation(self):\n",
        "    train_data = self.file_reader(60000,'./train-images.idx3-ubyte')\n",
        "    test_data = self.file_reader(10000,'./t10k-images.idx3-ubyte')\n",
        "    train_label = self.label_reader(60000,'./train-labels.idx1-ubyte')\n",
        "    test_label = self.label_reader(10000,'./t10k-labels.idx1-ubyte')\n",
        "    \n",
        "    return train_data,test_data,train_label,test_label\n",
        "    \n",
        "    \n",
        "  def cross_validation_creation(self,split=20):\n",
        "    \n",
        "    data = self.train_test_creation()\n",
        "    c_test_data = data[1][:int(data[1].shape[0]*split/100)]\n",
        "    c_test_label = data[3][:int(data[1].shape[0]*split/100)]\n",
        "    test_new_data = data[1][int(data[1].shape[0]*split/100):]\n",
        "    test_new_label = data[3][int(data[1].shape[0]*split/100):]\n",
        "    \n",
        "    train_data = data[0].reshape(data[0].shape[0],-1)\n",
        "    train_data = np.nan_to_num(train_data)\n",
        "    train_data = train_data / 255\n",
        "    \n",
        "    dataset = [train_data[:1000],data[2][:1000],c_test_data,c_test_label,test_new_data,test_new_label]\n",
        "    \n",
        "    return dataset"
      ],
      "execution_count": 0,
      "outputs": []
    },
    {
      "metadata": {
        "id": "ogBrDYOO3K_S",
        "colab_type": "code",
        "colab": {}
      },
      "cell_type": "code",
      "source": [
        "class FullyConnectedNetwork:\n",
        "  \n",
        "  def datasetRetrieval(self):\n",
        "    datasetprocess = DataSetProcess()\n",
        "    dataset = datasetprocess.cross_validation_creation()\n",
        "    \n",
        "    train_X = dataset[0]\n",
        "    train_Y = dataset[1]\n",
        "    test_X  = dataset[2]\n",
        "    test_Y  = dataset[3]\n",
        "    \n",
        "    return train_X,train_Y,test_X,test_Y\n",
        "    \n",
        "  def image_test(self,matrix):\n",
        "    plt.imshow(matrix.reshape(28,28))\n",
        "    plt.show()  \n",
        "    \n",
        "  def sigmoidfunction(self,z):\n",
        "    \n",
        "    \n",
        "    s = 1/(1+np.exp(-z))\n",
        "    \n",
        "    if np.argwhere(np.isnan(s)):\n",
        "      print(np.argwhere(np.isnan(s)))\n",
        "    return s\n",
        "  \n",
        "  def initialize_parameters(self,dim):\n",
        "    w = np.zeros((dim,1))\n",
        "    b = 0  \n",
        "    return w,b\n",
        "  \n",
        "  def propagate(self,w,b,train_X,train_Y):\n",
        "    m = train_X.shape[0]\n",
        "    #print(m)\n",
        "    #print(w.shape)\n",
        "    #train_X=np.reshape(train_X,(m,-1))\n",
        "    #print(train_X.shape)\n",
        "    train_Y=train_Y.reshape(m,1)\n",
        "    #print(train_Y.shape)\n",
        "    #self.image_test(train_X[10][:].reshape(28,28))\n",
        "    z=np.add(np.dot(np.transpose(w),train_X),b)\n",
        "    A = self.sigmoidfunction(z)\n",
        "    cost = (-1/m) * np.sum(train_Y*np.log(A) + (1-train_Y) * np.log(1-A))\n",
        "    dw = (1/m) * np.dot(train_X,np.transpose(A-train_Y))\n",
        "    db = (1/m) * np.sum(np.subtract(A,train_Y))\n",
        "    \n",
        "    gradient_slope = {'dw':dw,'db':db}\n",
        "    \n",
        "    return cost,gradient_slope\n",
        "  \n",
        "  def weight_optimizer(self,w,b,train_X,train_Y,iterations=1000,alpha=0.001):\n",
        "    \n",
        "    costs = []\n",
        "    for i in range(iterations):\n",
        "      cost,gradient_slope = self.propagate(w,b,train_X,train_Y)\n",
        "      \n",
        "      w = w - (alpha * (gradient_slope['dw']))\n",
        "      b = b - (alpha * (gradient_slope['db']))\n",
        "      \n",
        "      if i % 100 == 0:\n",
        "        print(i)       \n",
        "        costs.append(cost)\n",
        "        print(cost)\n",
        "    \n",
        "    weights  = {'w':w,'b':b}\n",
        "    \n",
        "    return weights,costs,gradient_slope  "
      ],
      "execution_count": 0,
      "outputs": []
    },
    {
      "metadata": {
        "id": "_f9zg0rD3LCd",
        "colab_type": "code",
        "colab": {
          "base_uri": "https://localhost:8080/",
          "height": 625
        },
        "outputId": "80894b1d-17d0-4903-8f14-5bc83b55de65"
      },
      "cell_type": "code",
      "source": [
        "if __name__=='__main__':\n",
        "  fcn = FullyConnectedNetwork()\n",
        "  train = fcn.datasetRetrieval()\n",
        "  print(train[0].shape[0])\n",
        "  w,b = fcn.initialize_parameters(train[0].shape[0])\n",
        "  weights,costs,gradient_slope=fcn.weight_optimizer(w,b,train[0],train[1])\n",
        "  \n",
        "  \n",
        "  "
      ],
      "execution_count": 46,
      "outputs": [
        {
          "output_type": "stream",
          "text": [
            "1000\n",
            "0\n",
            "543.4273895589979\n"
          ],
          "name": "stdout"
        },
        {
          "output_type": "stream",
          "text": [
            "/usr/local/lib/python3.6/dist-packages/ipykernel_launcher.py:23: DeprecationWarning: The truth value of an empty array is ambiguous. Returning False, but in future this will result in an error. Use `array.size > 0` to check that an array is not empty.\n",
            "/usr/local/lib/python3.6/dist-packages/ipykernel_launcher.py:43: RuntimeWarning: divide by zero encountered in log\n",
            "/usr/local/lib/python3.6/dist-packages/ipykernel_launcher.py:43: RuntimeWarning: invalid value encountered in multiply\n",
            "/usr/local/lib/python3.6/dist-packages/numpy/core/_methods.py:32: RuntimeWarning: invalid value encountered in reduce\n",
            "  return umr_sum(a, axis, dtype, out, keepdims)\n"
          ],
          "name": "stderr"
        },
        {
          "output_type": "error",
          "ename": "KeyboardInterrupt",
          "evalue": "ignored",
          "traceback": [
            "\u001b[0;31m---------------------------------------------------------------------------\u001b[0m",
            "\u001b[0;31mKeyboardInterrupt\u001b[0m                         Traceback (most recent call last)",
            "\u001b[0;32m<ipython-input-46-0e6e80490d0c>\u001b[0m in \u001b[0;36m<module>\u001b[0;34m()\u001b[0m\n\u001b[1;32m      4\u001b[0m   \u001b[0mprint\u001b[0m\u001b[0;34m(\u001b[0m\u001b[0mtrain\u001b[0m\u001b[0;34m[\u001b[0m\u001b[0;36m0\u001b[0m\u001b[0;34m]\u001b[0m\u001b[0;34m.\u001b[0m\u001b[0mshape\u001b[0m\u001b[0;34m[\u001b[0m\u001b[0;36m0\u001b[0m\u001b[0;34m]\u001b[0m\u001b[0;34m)\u001b[0m\u001b[0;34m\u001b[0m\u001b[0m\n\u001b[1;32m      5\u001b[0m   \u001b[0mw\u001b[0m\u001b[0;34m,\u001b[0m\u001b[0mb\u001b[0m \u001b[0;34m=\u001b[0m \u001b[0mfcn\u001b[0m\u001b[0;34m.\u001b[0m\u001b[0minitialize_parameters\u001b[0m\u001b[0;34m(\u001b[0m\u001b[0mtrain\u001b[0m\u001b[0;34m[\u001b[0m\u001b[0;36m0\u001b[0m\u001b[0;34m]\u001b[0m\u001b[0;34m.\u001b[0m\u001b[0mshape\u001b[0m\u001b[0;34m[\u001b[0m\u001b[0;36m0\u001b[0m\u001b[0;34m]\u001b[0m\u001b[0;34m)\u001b[0m\u001b[0;34m\u001b[0m\u001b[0m\n\u001b[0;32m----> 6\u001b[0;31m   \u001b[0mweights\u001b[0m\u001b[0;34m,\u001b[0m\u001b[0mcosts\u001b[0m\u001b[0;34m,\u001b[0m\u001b[0mgradient_slope\u001b[0m\u001b[0;34m=\u001b[0m\u001b[0mfcn\u001b[0m\u001b[0;34m.\u001b[0m\u001b[0mweight_optimizer\u001b[0m\u001b[0;34m(\u001b[0m\u001b[0mw\u001b[0m\u001b[0;34m,\u001b[0m\u001b[0mb\u001b[0m\u001b[0;34m,\u001b[0m\u001b[0mtrain\u001b[0m\u001b[0;34m[\u001b[0m\u001b[0;36m0\u001b[0m\u001b[0;34m]\u001b[0m\u001b[0;34m,\u001b[0m\u001b[0mtrain\u001b[0m\u001b[0;34m[\u001b[0m\u001b[0;36m1\u001b[0m\u001b[0;34m]\u001b[0m\u001b[0;34m)\u001b[0m\u001b[0;34m\u001b[0m\u001b[0m\n\u001b[0m\u001b[1;32m      7\u001b[0m \u001b[0;34m\u001b[0m\u001b[0m\n\u001b[1;32m      8\u001b[0m \u001b[0;34m\u001b[0m\u001b[0m\n",
            "\u001b[0;32m<ipython-input-45-0b63049f0b42>\u001b[0m in \u001b[0;36mweight_optimizer\u001b[0;34m(self, w, b, train_X, train_Y, iterations, alpha)\u001b[0m\n\u001b[1;32m     53\u001b[0m     \u001b[0mcosts\u001b[0m \u001b[0;34m=\u001b[0m \u001b[0;34m[\u001b[0m\u001b[0;34m]\u001b[0m\u001b[0;34m\u001b[0m\u001b[0m\n\u001b[1;32m     54\u001b[0m     \u001b[0;32mfor\u001b[0m \u001b[0mi\u001b[0m \u001b[0;32min\u001b[0m \u001b[0mrange\u001b[0m\u001b[0;34m(\u001b[0m\u001b[0miterations\u001b[0m\u001b[0;34m)\u001b[0m\u001b[0;34m:\u001b[0m\u001b[0;34m\u001b[0m\u001b[0m\n\u001b[0;32m---> 55\u001b[0;31m       \u001b[0mcost\u001b[0m\u001b[0;34m,\u001b[0m\u001b[0mgradient_slope\u001b[0m \u001b[0;34m=\u001b[0m \u001b[0mself\u001b[0m\u001b[0;34m.\u001b[0m\u001b[0mpropagate\u001b[0m\u001b[0;34m(\u001b[0m\u001b[0mw\u001b[0m\u001b[0;34m,\u001b[0m\u001b[0mb\u001b[0m\u001b[0;34m,\u001b[0m\u001b[0mtrain_X\u001b[0m\u001b[0;34m,\u001b[0m\u001b[0mtrain_Y\u001b[0m\u001b[0;34m)\u001b[0m\u001b[0;34m\u001b[0m\u001b[0m\n\u001b[0m\u001b[1;32m     56\u001b[0m \u001b[0;34m\u001b[0m\u001b[0m\n\u001b[1;32m     57\u001b[0m       \u001b[0mw\u001b[0m \u001b[0;34m=\u001b[0m \u001b[0mw\u001b[0m \u001b[0;34m-\u001b[0m \u001b[0;34m(\u001b[0m\u001b[0malpha\u001b[0m \u001b[0;34m*\u001b[0m \u001b[0;34m(\u001b[0m\u001b[0mgradient_slope\u001b[0m\u001b[0;34m[\u001b[0m\u001b[0;34m'dw'\u001b[0m\u001b[0;34m]\u001b[0m\u001b[0;34m)\u001b[0m\u001b[0;34m)\u001b[0m\u001b[0;34m\u001b[0m\u001b[0m\n",
            "\u001b[0;32m<ipython-input-45-0b63049f0b42>\u001b[0m in \u001b[0;36mpropagate\u001b[0;34m(self, w, b, train_X, train_Y)\u001b[0m\n\u001b[1;32m     39\u001b[0m     \u001b[0;31m#print(train_Y.shape)\u001b[0m\u001b[0;34m\u001b[0m\u001b[0;34m\u001b[0m\u001b[0m\n\u001b[1;32m     40\u001b[0m     \u001b[0;31m#self.image_test(train_X[10][:].reshape(28,28))\u001b[0m\u001b[0;34m\u001b[0m\u001b[0;34m\u001b[0m\u001b[0m\n\u001b[0;32m---> 41\u001b[0;31m     \u001b[0mz\u001b[0m\u001b[0;34m=\u001b[0m\u001b[0mnp\u001b[0m\u001b[0;34m.\u001b[0m\u001b[0madd\u001b[0m\u001b[0;34m(\u001b[0m\u001b[0mnp\u001b[0m\u001b[0;34m.\u001b[0m\u001b[0mdot\u001b[0m\u001b[0;34m(\u001b[0m\u001b[0mnp\u001b[0m\u001b[0;34m.\u001b[0m\u001b[0mtranspose\u001b[0m\u001b[0;34m(\u001b[0m\u001b[0mw\u001b[0m\u001b[0;34m)\u001b[0m\u001b[0;34m,\u001b[0m\u001b[0mtrain_X\u001b[0m\u001b[0;34m)\u001b[0m\u001b[0;34m,\u001b[0m\u001b[0mb\u001b[0m\u001b[0;34m)\u001b[0m\u001b[0;34m\u001b[0m\u001b[0m\n\u001b[0m\u001b[1;32m     42\u001b[0m     \u001b[0mA\u001b[0m \u001b[0;34m=\u001b[0m \u001b[0mself\u001b[0m\u001b[0;34m.\u001b[0m\u001b[0msigmoidfunction\u001b[0m\u001b[0;34m(\u001b[0m\u001b[0mz\u001b[0m\u001b[0;34m)\u001b[0m\u001b[0;34m\u001b[0m\u001b[0m\n\u001b[1;32m     43\u001b[0m     \u001b[0mcost\u001b[0m \u001b[0;34m=\u001b[0m \u001b[0;34m(\u001b[0m\u001b[0;34m-\u001b[0m\u001b[0;36m1\u001b[0m\u001b[0;34m/\u001b[0m\u001b[0mm\u001b[0m\u001b[0;34m)\u001b[0m \u001b[0;34m*\u001b[0m \u001b[0mnp\u001b[0m\u001b[0;34m.\u001b[0m\u001b[0msum\u001b[0m\u001b[0;34m(\u001b[0m\u001b[0mtrain_Y\u001b[0m\u001b[0;34m*\u001b[0m\u001b[0mnp\u001b[0m\u001b[0;34m.\u001b[0m\u001b[0mlog\u001b[0m\u001b[0;34m(\u001b[0m\u001b[0mA\u001b[0m\u001b[0;34m)\u001b[0m \u001b[0;34m+\u001b[0m \u001b[0;34m(\u001b[0m\u001b[0;36m1\u001b[0m\u001b[0;34m-\u001b[0m\u001b[0mtrain_Y\u001b[0m\u001b[0;34m)\u001b[0m \u001b[0;34m*\u001b[0m \u001b[0mnp\u001b[0m\u001b[0;34m.\u001b[0m\u001b[0mlog\u001b[0m\u001b[0;34m(\u001b[0m\u001b[0;36m1\u001b[0m\u001b[0;34m-\u001b[0m\u001b[0mA\u001b[0m\u001b[0;34m)\u001b[0m\u001b[0;34m)\u001b[0m\u001b[0;34m\u001b[0m\u001b[0m\n",
            "\u001b[0;31mKeyboardInterrupt\u001b[0m: "
          ]
        }
      ]
    },
    {
      "metadata": {
        "id": "cVxo5JfGmeiB",
        "colab_type": "code",
        "colab": {
          "base_uri": "https://localhost:8080/",
          "height": 102
        },
        "outputId": "6ca3030f-fdfb-48d8-f96a-a6ae9eab7939"
      },
      "cell_type": "code",
      "source": [
        "for i in range(5):\n",
        "  print(i)"
      ],
      "execution_count": 57,
      "outputs": [
        {
          "output_type": "stream",
          "text": [
            "0\n",
            "1\n",
            "2\n",
            "3\n",
            "4\n"
          ],
          "name": "stdout"
        }
      ]
    },
    {
      "metadata": {
        "id": "Q2HVUcoenbXs",
        "colab_type": "code",
        "colab": {}
      },
      "cell_type": "code",
      "source": [
        ""
      ],
      "execution_count": 0,
      "outputs": []
    },
    {
      "metadata": {
        "id": "Rbc0OyHm295L",
        "colab_type": "code",
        "colab": {}
      },
      "cell_type": "code",
      "source": [
        ""
      ],
      "execution_count": 0,
      "outputs": []
    },
    {
      "metadata": {
        "id": "Cy6q8ylq3C1s",
        "colab_type": "code",
        "colab": {}
      },
      "cell_type": "code",
      "source": [
        ""
      ],
      "execution_count": 0,
      "outputs": []
    },
    {
      "metadata": {
        "id": "XGfms76F3rpH",
        "colab_type": "code",
        "colab": {}
      },
      "cell_type": "code",
      "source": [
        ""
      ],
      "execution_count": 0,
      "outputs": []
    },
    {
      "metadata": {
        "id": "OCK-b9lU4844",
        "colab_type": "code",
        "colab": {}
      },
      "cell_type": "code",
      "source": [
        "  "
      ],
      "execution_count": 0,
      "outputs": []
    }
  ]
}